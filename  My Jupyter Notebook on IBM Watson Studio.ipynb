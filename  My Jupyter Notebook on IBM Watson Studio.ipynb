{
    "cells": [
        {
            "cell_type": "markdown",
            "metadata": {
                "collapsed": true
            },
            "source": "# My Jupyter Notebook on IBM Watson Studio"
        },
        {
            "cell_type": "markdown",
            "metadata": {},
            "source": "**Muhammad Hafizuddin Bin Hairuzzaman**\nData Analylist/ Data Scientist"
        },
        {
            "cell_type": "markdown",
            "metadata": {},
            "source": "*I am interested in data science because, I feel to gathering data is easy yet it is very hard to manage and process, I love to learn how the data been related and process to execute a result for solving a problem. Thats why i am interested to became Data scientist.*"
        },
        {
            "cell_type": "markdown",
            "metadata": {},
            "source": "###Below is a Metametical Process of average calculation"
        },
        {
            "cell_type": "code",
            "execution_count": 6,
            "metadata": {},
            "outputs": [
                {
                    "data": {
                        "text/plain": "2.0"
                    },
                    "execution_count": 6,
                    "metadata": {},
                    "output_type": "execute_result"
                }
            ],
            "source": "(1+2+3)/3"
        },
        {
            "cell_type": "markdown",
            "metadata": {},
            "source": "Process calculation\n***\n\n*  Two process of math are inculded which is;\n\n 1. `Sum/addition` of all number\n 2. Resulth of sum of all number `divided` by Total set\n\nNo. | Set1 | Set2 |Set3 \n--- | --- | --- | ---\nItem in each set | 1 | 2 | 3\nTotal set| 3\n\n> In Other hand we can call Sum of item over total set\n\n*Note : it is not Sum of item over ~~Sum of item in each set~~*\n\nHere some Image Example:\n![alt text](https://www.wikihow.com/images/thumb/5/54/Calculate-Weighted-Average-Step-9-Version-7.jpg/aid2850868-v4-728px-Calculate-Weighted-Average-Step-9-Version-7.jpg)\n\n\nFor more details You can go :\n[For more details You can go here](https://www.wikihow.com/Calculate-Weighted-Average)\n\n\n"
        },
        {
            "cell_type": "code",
            "execution_count": null,
            "metadata": {},
            "outputs": [],
            "source": ""
        }
    ],
    "metadata": {
        "kernelspec": {
            "display_name": "Python 3.6",
            "language": "python",
            "name": "python3"
        },
        "language_info": {
            "codemirror_mode": {
                "name": "ipython",
                "version": 3
            },
            "file_extension": ".py",
            "mimetype": "text/x-python",
            "name": "python",
            "nbconvert_exporter": "python",
            "pygments_lexer": "ipython3",
            "version": "3.6.9"
        }
    },
    "nbformat": 4,
    "nbformat_minor": 1
}