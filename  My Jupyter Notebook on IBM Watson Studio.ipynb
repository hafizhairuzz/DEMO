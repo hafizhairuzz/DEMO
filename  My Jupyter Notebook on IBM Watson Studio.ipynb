{
    "cells": [
        {
            "metadata": {
                "collapsed": true
            },
            "cell_type": "markdown",
            "source": "# My Jupyter Notebook on IBM Watson Studio"
        },
        {
            "metadata": {},
            "cell_type": "markdown",
            "source": "**Muhammad Hafizuddin Bin Hairuzzaman**\nData Analylist/ Data Scientist"
        },
        {
            "metadata": {},
            "cell_type": "markdown",
            "source": "*I am interested in data science because, I feel to gathering data is easy yet it is very hard to manage and process, I love to learn how the data been related and process to execute a result for solving a problem. Thats why i am interested to became Data scientist.*"
        },
        {
            "metadata": {},
            "cell_type": "markdown",
            "source": "###Below is a Mathematical Process of average calculation"
        },
        {
            "metadata": {},
            "cell_type": "code",
            "source": "(1+2+3)/3",
            "execution_count": 6,
            "outputs": [
                {
                    "output_type": "execute_result",
                    "execution_count": 6,
                    "data": {
                        "text/plain": "2.0"
                    },
                    "metadata": {}
                }
            ]
        },
        {
            "metadata": {},
            "cell_type": "markdown",
            "source": "Process calculation\n***\n\n*  Two process of math are inculded which is;\n\n 1. `Sum/addition` of all number\n 2. Resulth of sum of all number `divided` by Total set\n\nNo. | Set1 | Set2 |Set3 \n--- | --- | --- | ---\nItem in each set | 1 | 2 | 3\nTotal set| 3\n\n> In Other hand we can call Sum of item over total set\n\n*Note : it is not Sum of item over ~~Sum of item in each set~~*\n\nHere some Image Example:\n![alt text](https://www.wikihow.com/images/thumb/5/54/Calculate-Weighted-Average-Step-9-Version-7.jpg/aid2850868-v4-728px-Calculate-Weighted-Average-Step-9-Version-7.jpg)\n\n\nFor more details You can go :\n[For more details You can go here](https://www.wikihow.com/Calculate-Weighted-Average)\n\n\n"
        },
        {
            "metadata": {},
            "cell_type": "code",
            "source": "",
            "execution_count": null,
            "outputs": []
        }
    ],
    "metadata": {
        "kernelspec": {
            "name": "python3",
            "display_name": "Python 3.6",
            "language": "python"
        },
        "language_info": {
            "name": "python",
            "version": "3.6.9",
            "mimetype": "text/x-python",
            "codemirror_mode": {
                "name": "ipython",
                "version": 3
            },
            "pygments_lexer": "ipython3",
            "nbconvert_exporter": "python",
            "file_extension": ".py"
        }
    },
    "nbformat": 4,
    "nbformat_minor": 1
}